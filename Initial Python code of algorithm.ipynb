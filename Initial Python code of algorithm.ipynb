{
 "metadata": {
  "name": "",
  "signature": "sha256:782330bcee2702491ae89b7d311340cd93c0138544e734fc005200f2cd49d360"
 },
 "nbformat": 3,
 "nbformat_minor": 0,
 "worksheets": [
  {
   "cells": [
    {
     "cell_type": "code",
     "collapsed": false,
     "input": [
      "from math import pi, sin, cos\n",
      "from collections import namedtuple\n",
      "from random import random, choice\n",
      "from copy import copy\n",
      " \n",
      "try:\n",
      "    import psyco\n",
      "    psyco.full()\n",
      "except ImportError:\n",
      "    pass\n",
      " \n",
      " \n",
      "FLOAT_MAX = 1e100\n",
      " \n",
      " \n",
      "class Point:\n",
      "    __slots__ = [\"x\", \"y\", \"group\"]\n",
      "    def __init__(self, x=0.0, y=0.0, group=0):\n",
      "        self.x, self.y, self.group = x, y, group\n",
      " \n",
      " \n",
      "def generate_points(npoints, radius):\n",
      "    points = [Point() for _ in xrange(npoints)]\n",
      " \n",
      "    # note: this is not a uniform 2-d distribution\n",
      "    for p in points:\n",
      "        r = random() * radius\n",
      "        ang = random() * 2 * pi\n",
      "        p.x = r * cos(ang)\n",
      "        p.y = r * sin(ang)\n",
      " \n",
      "    return points\n",
      " "
     ],
     "language": "python",
     "metadata": {},
     "outputs": [],
     "prompt_number": 1
    },
    {
     "cell_type": "code",
     "collapsed": false,
     "input": [],
     "language": "python",
     "metadata": {},
     "outputs": []
    }
   ],
   "metadata": {}
  }
 ]
}