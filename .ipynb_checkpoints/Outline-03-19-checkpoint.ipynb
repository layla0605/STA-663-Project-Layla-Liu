{
 "metadata": {
  "name": "",
  "signature": "sha256:8c316c949e27b37cc1968d0f48392787c1dab520153f3ae2f522262f3eb7d627"
 },
 "nbformat": 3,
 "nbformat_minor": 0,
 "worksheets": [
  {
   "cells": [
    {
     "cell_type": "markdown",
     "metadata": {},
     "source": [
      "Title of Paper: Scalable K-Means++"
     ]
    },
    {
     "cell_type": "markdown",
     "metadata": {},
     "source": [
      "Clustering is a central problem in data management and has a rich and illustrious history with literally hundreds of different algorithms published on the subject. Even so, a single method \u2014 k-means \u2014 remains the most popular clustering method; in fact, it was identified as one of the top 10 algorithms in data mining. The advantage of k-means is its simplicity: starting with a set of randomly chosen initial centers, one repeatedly assigns each input point to its nearest center, and then recomputes the centers given the point assignment. This local search, called Lloyd\u2019s itera- tion, continues until the solution does not change between two consecutive rounds.\n",
      "In this paper the autors obtained a parallel version of the k-means++ initialization algorithm and empirically demonstrated its practical effectiveness. The main idea was that instead of sampling a single point in each pass of the k-means++ algorithm, they sampled O(k) points in each round and repeat the process for approximately O(log n) rounds. At the end of the algorithm they were left with O(k log n) points that formed a solution that was within a constant factor away from the optimum. They then reclustered these O(k log n) points into k initial centers for the Lloyd\u2019s iteration. This initialization algorithm, which they called k-means||, was quite simple and lended itself to easy parallel implementations. However, the analysis of the algorithm turned out to be highly non-trivial, requiring new insights, and was quite different from the analysis of k-means++. They then evaluated the performance of this algorithm on real-world datasets. Their key observations in the experiments were: \u2022 O(log n) iterations was not necessary and after as little as five rounds, the solution of k-means|| was consistently as good or better than that found by any other method. \u2022 The parallel implementation of k-means|| was much faster than existing parallel algorithms for k-means. \u2022 The number of iterations until Lloyd\u2019s algorithm converges was smallest when using k-means|| as the seed."
     ]
    },
    {
     "cell_type": "code",
     "collapsed": false,
     "input": [],
     "language": "python",
     "metadata": {},
     "outputs": []
    }
   ],
   "metadata": {}
  }
 ]
}