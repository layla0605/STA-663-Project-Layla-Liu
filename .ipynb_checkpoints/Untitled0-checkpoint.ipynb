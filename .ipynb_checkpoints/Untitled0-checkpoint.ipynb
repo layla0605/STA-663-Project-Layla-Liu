{
 "metadata": {
  "name": "",
  "signature": "sha256:58c51a60a00f27dc1ca0f2f6df0cc0b89f0954ec6940735bdf045f2434febe85"
 },
 "nbformat": 3,
 "nbformat_minor": 0,
 "worksheets": []
}