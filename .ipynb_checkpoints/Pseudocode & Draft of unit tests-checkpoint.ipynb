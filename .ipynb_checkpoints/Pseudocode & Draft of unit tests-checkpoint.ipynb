{
 "metadata": {
  "name": "",
  "signature": "sha256:11f96f651a1c7b49c93081231455d6ba36952b267a067ec3a33eb470cad2eaf6"
 },
 "nbformat": 3,
 "nbformat_minor": 0,
 "worksheets": [
  {
   "cells": [
    {
     "cell_type": "markdown",
     "metadata": {},
     "source": [
      "****Pseudocode****\n",
      "\n",
      "$k$-means|| ($k$, $\\mathscr{l}$) initialization:\n",
      "\n",
      "- $\\mathcal{C} \\leftarrow$ sample a point uniformly at random from $X$\n",
      "- $\\psi \\leftarrow \\phi x (\\mathcal{C})$\n",
      "- **for** $\\mathcal{O}(\\log \\psi)$ times **do**\n",
      "- $\\mathcal{C}^{'} \\leftarrow$ sample each point $x \\in X$ independently with probability $p_{x} = \\frac{\\mathscr{l} d^{2}(x, \\mathcal{C})}{\\phi x (\\mathcal{C})}$\n",
      "- $\\mathcal{C} \\leftarrow \\mathcal{C} \\cup \\mathcal{C}^{'}$\n",
      "- **end for**\n",
      "- For $x \\in \\mathcal{C}$, set $w_{x}$ to be the number of points in $X$ closer to $x$ than any other point in $\\mathcal{C}$\n",
      "- Recluster the weighted points in $\\mathcal{C}$ into $k$ clusters"
     ]
    },
    {
     "cell_type": "markdown",
     "metadata": {},
     "source": [
      "****Draft of unit tests****\n",
      "\n",
      "- First simulate data \n",
      "- Apply three algorithms to the data: basic $k$-means, $k$-means++ and $k$-means||\n",
      "- Compare the results by plotting the clusters, representing each cluster with different colors"
     ]
    }
   ],
   "metadata": {}
  }
 ]
}