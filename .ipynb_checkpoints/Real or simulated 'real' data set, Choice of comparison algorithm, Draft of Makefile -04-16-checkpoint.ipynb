{
 "metadata": {
  "name": "",
  "signature": "sha256:348e14827d38cf406aad2f06a25d04d068e73272c3e64c6f61542027fae021e3"
 },
 "nbformat": 3,
 "nbformat_minor": 0,
 "worksheets": [
  {
   "cells": [
    {
     "cell_type": "code",
     "collapsed": false,
     "input": [
      "\n",
      "import numpy as np\n",
      "import matplotlib.pyplot as plt\n",
      "import matplotlib.cm as cm\n",
      "\n",
      "if __name__ == '__main__':\n",
      "    k = 3\n",
      "    data = np.random.randn(100000,2)\n",
      "    #data = np.array([[1.1,2],[1,2],[0.9,1.9],[1,2.1],[4,4],[4,4.1],[4.2,4.3],[4.3,4],[9,9],[8.9,9],[8.7,9.2],[9.1,9]])\n",
      "    kmeans = KMeansPP(data, k)\n",
      "    _, _, centroids, min_location = kmeans.cluster()\n",
      "    # plotting code\n",
      "    plt.figure()\n",
      "    plt.subplot(1,3,1)\n",
      "    colors = iter(cm.rainbow(np.linspace(0, 1, k + 1)))\n",
      "    for col in range (0,k):\n",
      "            plt.scatter(data[min_location[:,col] == True, :][:,0], data[min_location[:,col] == True, :][:,1], color=next(colors))\n",
      "\n",
      "    centroid_leg = plt.scatter(centroids[:,0], centroids[:,1], color=next(colors), marker='x')\n",
      "    plt.legend([centroid_leg], ['Centroids'], scatterpoints=1, loc='best')\n",
      "\n",
      "    kmeans = KMeansBase(data, k)\n",
      "    _, _, centroids, min_location = kmeans.cluster()\n",
      "    plt.subplot(1,3,2)\n",
      "    colors = iter(cm.rainbow(np.linspace(0, 1, k + 1)))\n",
      "    for col in range (0,k):\n",
      "            plt.scatter(data[min_location[:,col] == True, :][:,0], data[min_location[:,col] == True, :][:,1], color=next(colors))\n",
      "\n",
      "    centroid_leg = plt.scatter(centroids[:,0], centroids[:,1], color=next(colors), marker='x')\n",
      "    plt.legend([centroid_leg], ['Centroids'], scatterpoints=1, loc='best')\n",
      "\n",
      "\n",
      "    kmeans = ScalableKMeansPP(data, k, 2, 2)\n",
      "    _, _, centroids, min_location = kmeans.cluster()\n",
      "    plt.subplot(1,3,3)\n",
      "    colors = iter(cm.rainbow(np.linspace(0, 1, k + 1)))\n",
      "    for col in range (0,k):\n",
      "            plt.scatter(data[min_location[:,col] == True, :][:,0], data[min_location[:,col] == True, :][:,1], color=next(colors))\n",
      "\n",
      "    centroid_leg = plt.scatter(centroids[:,0], centroids[:,1], color=next(colors), marker='x')\n",
      "    plt.legend([centroid_leg], ['Centroids'], scatterpoints=1, loc='best')\n",
      "\n",
      "    plt.show()"
     ],
     "language": "python",
     "metadata": {},
     "outputs": []
    }
   ],
   "metadata": {}
  }
 ]
}