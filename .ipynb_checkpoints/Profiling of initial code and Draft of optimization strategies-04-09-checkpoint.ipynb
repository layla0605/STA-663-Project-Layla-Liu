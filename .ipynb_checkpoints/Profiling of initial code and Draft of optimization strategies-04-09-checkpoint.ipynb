{
 "metadata": {
  "name": "",
  "signature": "sha256:d09b0381e32fd3a1df577c083b2f152e0c5e3976eb6e4df559510a88da536524"
 },
 "nbformat": 3,
 "nbformat_minor": 0,
 "worksheets": [
  {
   "cells": [
    {
     "cell_type": "code",
     "collapsed": false,
     "input": [
      "import numpy as np\n",
      "def samplesize_initcost():\n",
      "    k = 10\n",
      "    sampleSizes = np.linspace(100000, 1000000, 10)\n",
      "    # sampleSizes = [1000, 2000, 3000, 4000, 5000, 6000]\n",
      "    kmeansscalble_perf = []\n",
      "    for n in sampleSizes:\n",
      "        data = np.random.randn(n, 2)\n",
      "        print('Sample Size:', n)\n",
      "        print('Scalable KMeans++')\n",
      "        kmeans_scalable = ScalableKMeansPP(data, k, 4, 3)\n",
      "        kmeansscalble_perf.append(kmeans_scalable.initCost() * 100)\n",
      "\n",
      "# plot\n",
      "plt.figure(figsize=(10, 10))\n",
      "plt.plot(sampleSizes, kmeansscalble_perf, '-o', lw=3, markersize=10)\n",
      "plt.legend(('Scalable KMeans++'), prop={'size': 18}, loc=0)\n",
      "plt.xlabel('Sample Size', fontsize=18)\n",
      "plt.ylabel('Initialization Cost (ms)', fontsize=18)\n",
      "ax = plt.gca()\n",
      "ax.xaxis.set_tick_params(labelsize=16)\n",
      "ax.xaxis.get_major_formatter().set_powerlimits((0, 0))\n",
      "ax.yaxis.set_tick_params(labelsize=16)\n",
      "plt.savefig('samples-initcost.png')\n",
      "plt.close()"
     ],
     "language": "python",
     "metadata": {},
     "outputs": []
    }
   ],
   "metadata": {}
  }
 ]
}